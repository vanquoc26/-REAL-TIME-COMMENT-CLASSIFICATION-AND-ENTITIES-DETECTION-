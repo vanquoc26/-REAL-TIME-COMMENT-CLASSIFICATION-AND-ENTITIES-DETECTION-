{
 "cells": [
  {
   "cell_type": "code",
   "execution_count": 10,
   "metadata": {},
   "outputs": [],
   "source": [
    "from kafka import KafkaProducer\n",
    "from json import dumps\n",
    "from time import sleep\n",
    "import csv\n"
   ]
  },
  {
   "cell_type": "code",
   "execution_count": 11,
   "metadata": {},
   "outputs": [],
   "source": [
    "topic_name = 'doanBD_3'\n",
    "kafka_server = 'localhost:9092'"
   ]
  },
  {
   "cell_type": "code",
   "execution_count": 12,
   "metadata": {},
   "outputs": [],
   "source": [
    "producer = KafkaProducer(bootstrap_servers=kafka_server, value_serializer=lambda K:dumps(K).encode('utf-8'))\n"
   ]
  },
  {
   "cell_type": "code",
   "execution_count": 13,
   "metadata": {},
   "outputs": [
    {
     "name": "stdout",
     "output_type": "stream",
     "text": [
      "['kết mỗi di dimaria']\n",
      "['chân ricardo quaresma dẻo vãi cặc']\n",
      "['hầu như những người thành công nhất đều xuất thân từ nghèo khổ']\n",
      "['quang hai se tim lai phong độ']\n",
      "['chưa thấy nhà đài nào quay quan chức']\n",
      "['kante xuất thân siêu nghèo luôn']\n",
      "['thật chứ']\n",
      "['garnacho đẹp ác']\n",
      "['tuyệt']\n",
      "['và chính các cầu thủ xuất thân nghèo khó đó đã vươn mình trở thành những hàng đầu thế giới, làm mưa gió vệ sinh thống trị nền bóng đá giới 1 thời']\n",
      "['những người nghèo khổ da thương đen xạm']\n",
      "['lúc đầu là trái bóng chỉ yêu thương xà ngang thôi khúc cuối thì']\n",
      "['cái vòi phun nước của manchester city']\n",
      "['kante của tôi đâu']\n",
      "['vinicius junior jr']\n",
      "['hojlund bảnh']\n",
      "['bale thì sao chấp cũng chạy kịp']\n",
      "['manchester united']\n",
      "['suarez khổ thế']\n",
      "['ổng đường cầm cái gì vậy']\n",
      "['công nhận cậu ấy đá hay']\n",
      "['ô messi nghèo khổ á']\n",
      "['chúc mừng đội tuyển việt nam thắng 3l2']\n",
      "['kante đâu']\n",
      "['bồ đào nha chưa bao hay ăn đức nhưng năm nay có thể ngoại lệ']\n",
      "['đỉnh nhất là của mariothế mà clip này lại không có']\n",
      "['đi tiếp pháp']\n",
      "['còn nhớ dembele không nhỉ']\n",
      "['quá gay cấn']\n",
      "['huấn luyện viên kim sang sik hay quá']\n",
      "['cristiano ronaldo']\n",
      "['mất cầu thủ tôi không biết văn toàn giàu']\n",
      "['glory manchester united as the reds go marching on']\n",
      "['như kiểu bài này là giành riêng cho manchester united ấy']\n",
      "['chúc mừng ban huấn luyện các cầu thủ đội tuyển việt nam']\n",
      "['những cầu thủ nghèo ấybây giờ là xuất sắc nhất thế giới']\n",
      "['người đi bộ giờ là quá khứ rồi cất poster vào góc hộ cái']\n",
      "['quả của lamela đồng đội ôm đầu méo tin vào']\n",
      "['sang võ lích của việt nam thì những pha này phải gọi bằng sư tổ']\n",
      "['việt nam nhìn vậy thôi chứ kỹ thuật này rất khó dễ chấn thương cổ châncần cả 1 sự tập luyệnấn tượng vệ sinh dimaria']\n",
      "['messi là trung lưu bạn ơi']\n",
      "['hơn phim hành động']\n",
      "['đá tiền đạo bóng dâng tới chân mà không vô thì do mình thôi']\n",
      "['đá trúng một quả tôi vui , lúc ba ui đau vãi ò']\n",
      "['quên mà']\n",
      "['đa số họ đều xuất thân nghèo khổ tại sao chúng ta có mọi thứ lại không làm được như']\n",
      "['pha này xem cười sặc luônnhìn ông haaland kìa']\n",
      "['thế có tính là trái penalty không anh em']\n",
      "['21k mua được gì']\n",
      "['lâu lắm rồi mới coi được 1 trận đấu cực kỳ hay']\n",
      "['messi trung lưu']\n",
      "['giàu có với nghèo khổ là xuất thân đặc biệt']\n",
      "['không có ý gì đâu nhưng đụ má tự nhiên đến khúc suarez buồn cười vãi ò khổ thân anh']\n",
      "['suarez đói quá nên mới cắn người thôi mong mọi hiểu cho chắc vợ của mình ạ cảm ơn']\n",
      "['bỉ là đội yếu chứ không mạnh như mầy tưởng']\n",
      "['tôi chỉ nể Ibrahimovic, người có lẽ đã đi tù nếu không đá bóng']\n",
      "['ông thần lamela rời gà trống nước anh sang tây ban nha hợp phong thủy phết quả ghi bàn khá đẹp']\n",
      "['gái xing bùn ngủ xem hết nho']\n",
      "['mmessi đâu']\n",
      "['david de gea beckham']\n",
      "['có ai biết quy luật xếp cặp 18 năm nay không sao tôi thấy lộn xộn logic gì hết']\n",
      "['pháp tây ban nha']\n",
      "['những huyênt thoại đều chug hoàn cảnh']\n",
      "['góc đẹp']\n",
      "['trịnh trung hiếu cuối video']\n",
      "['henry']\n",
      "\n",
      "End.\n"
     ]
    }
   ],
   "source": [
    "while(True):\n",
    "    try:\n",
    "        with open('..\\data\\comments.csv', encoding='utf-8') as file:\n",
    "            reader = csv.reader(file)\n",
    "            for messages in reader:\n",
    "                print(messages)\n",
    "                producer.send(topic_name, messages)\n",
    "                sleep(5)\n",
    "    except KeyboardInterrupt:\n",
    "        print(\"\\nEnd.\")\n",
    "        break\n",
    "    "
   ]
  }
 ],
 "metadata": {
  "kernelspec": {
   "display_name": "Python 3",
   "language": "python",
   "name": "python3"
  },
  "language_info": {
   "codemirror_mode": {
    "name": "ipython",
    "version": 3
   },
   "file_extension": ".py",
   "mimetype": "text/x-python",
   "name": "python",
   "nbconvert_exporter": "python",
   "pygments_lexer": "ipython3",
   "version": "3.11.9"
  }
 },
 "nbformat": 4,
 "nbformat_minor": 2
}
